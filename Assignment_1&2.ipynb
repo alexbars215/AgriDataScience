{
 "cells": [
  {
   "attachments": {},
   "cell_type": "markdown",
   "metadata": {},
   "source": [
    "# Assignment 1 and 2"
   ]
  },
  {
   "attachments": {},
   "cell_type": "markdown",
   "metadata": {},
   "source": [
    "**Please follow the instructions. Do not add new cell! Write your code in designated areas.**"
   ]
  },
  {
   "cell_type": "code",
   "execution_count": 1,
   "metadata": {},
   "outputs": [
    {
     "name": "stdout",
     "output_type": "stream",
     "text": [
      "Assignment 1 & 2: Solutions by Aleksandr\n",
      "Local Time: 2023-06-28 18:03:40\n",
      "Computer ID: DESKTOP-6GLOPD7\n"
     ]
    }
   ],
   "source": [
    "import datetime\n",
    "import socket\n",
    "\n",
    "# Get local time\n",
    "local_time = datetime.datetime.now().strftime(\"%Y-%m-%d %H:%M:%S\")\n",
    "\n",
    "# Get computer ID or hostname\n",
    "computer_id = socket.gethostname()\n",
    "\n",
    "# Print output with local time and computer ID\n",
    "print('Assignment 1 & 2: Solutions by Aleksandr') # Please change your name here\n",
    "print('Local Time:', local_time)\n",
    "print('Computer ID:', computer_id)"
   ]
  },
  {
   "attachments": {},
   "cell_type": "markdown",
   "metadata": {},
   "source": [
    "## Exercise 1: String Manipulation"
   ]
  },
  {
   "attachments": {},
   "cell_type": "markdown",
   "metadata": {},
   "source": [
    "Create a function that takes a string parameter representing a crop name and returns the crop name in uppercase letters. Keys: str, upper()"
   ]
  },
  {
   "cell_type": "code",
   "execution_count": 6,
   "metadata": {},
   "outputs": [
    {
     "name": "stdout",
     "output_type": "stream",
     "text": [
      "CANOLA\n"
     ]
    }
   ],
   "source": [
    "## Your code here down\n",
    "def print_crop_name():\n",
    "    print (crop_name.upper())\n",
    "\n",
    "crop_name = 'canola'\n",
    "\n",
    "print_crop_name()\n",
    "\n",
    "## Your code here up"
   ]
  },
  {
   "attachments": {},
   "cell_type": "markdown",
   "metadata": {},
   "source": [
    "## Exercise 2: Crop Count"
   ]
  },
  {
   "attachments": {},
   "cell_type": "markdown",
   "metadata": {},
   "source": [
    "Create a function that takes a list of crop names (lentil, barly, canola, spring wheat, durum wheat, oats, alfalfa) and returns the total count of crops. Keys: list, leng."
   ]
  },
  {
   "cell_type": "code",
   "execution_count": 6,
   "metadata": {},
   "outputs": [
    {
     "name": "stdout",
     "output_type": "stream",
     "text": [
      "7\n"
     ]
    }
   ],
   "source": [
    "## Your code here down\n",
    "def total_count_crops():\n",
    "   print (len(list_of_crops))\n",
    "\n",
    "list_of_crops = ['lentil','barley','canola','spring wheat','durum wheat','oats','alfalfa']\n",
    "\n",
    "total_count_crops()\n",
    "\n",
    "## Your code here up"
   ]
  },
  {
   "attachments": {},
   "cell_type": "markdown",
   "metadata": {},
   "source": [
    "## Exercise 3: Temperature Conversion"
   ]
  },
  {
   "attachments": {},
   "cell_type": "markdown",
   "metadata": {},
   "source": [
    "Create a function that takes a temperature in Celsius and converts it to Fahrenheit. Return the converted temperature. Keys:def, find converter."
   ]
  },
  {
   "cell_type": "code",
   "execution_count": 13,
   "metadata": {},
   "outputs": [
    {
     "data": {
      "text/plain": [
       "68.0"
      ]
     },
     "execution_count": 13,
     "metadata": {},
     "output_type": "execute_result"
    }
   ],
   "source": [
    "## Your code here down\n",
    "def f_to_c_converter(celcius):\n",
    "    fahrenheit = ((9*celcius)/5)+32\n",
    "    return fahrenheit\n",
    "\n",
    "\n",
    "\n",
    "f_to_c_converter(20)## enter value of temperature in celcius \n",
    "## Your code here up"
   ]
  },
  {
   "attachments": {},
   "cell_type": "markdown",
   "metadata": {},
   "source": [
    "## Exercise 4: Crop Harvest"
   ]
  },
  {
   "attachments": {},
   "cell_type": "markdown",
   "metadata": {},
   "source": [
    "Create a function that takes the yield of canola crop (in bushels) and returns a string indicating whether it's a high, moderate, or low yield. Keys: strings, if-else, print()"
   ]
  },
  {
   "cell_type": "code",
   "execution_count": 29,
   "metadata": {},
   "outputs": [
    {
     "name": "stdout",
     "output_type": "stream",
     "text": [
      "Low yield. The crop needs more time to grow.\n"
     ]
    }
   ],
   "source": [
    "## Your code here down\n",
    "canola_yield = 33  # Enter Yield of the canola in bushels\n",
    "if canola_yield >= 50:\n",
    "    print('High yield! The crop is ready for harvest.')\n",
    "elif 34 <= canola_yield <= 49:\n",
    "    print('Moderate yield! The crop is ready for harvest soon.')\n",
    "else:\n",
    "    print('Low yield. The crop needs more time to grow.')\n",
    "\n",
    "## Your code here up"
   ]
  },
  {
   "attachments": {},
   "cell_type": "markdown",
   "metadata": {},
   "source": [
    "## Exercise 5: Crop Average"
   ]
  },
  {
   "attachments": {},
   "cell_type": "markdown",
   "metadata": {},
   "source": [
    "Create a function that takes a list of crop yields (spring wheat) and returns the average yield. Keys: list, average() or arithmetic average."
   ]
  },
  {
   "cell_type": "code",
   "execution_count": 37,
   "metadata": {},
   "outputs": [
    {
     "data": {
      "text/plain": [
       "180.0"
      ]
     },
     "execution_count": 37,
     "metadata": {},
     "output_type": "execute_result"
    }
   ],
   "source": [
    "## Your code here down\n",
    "crop_yield_kg = [100,200,300,200,100]\n",
    "def average_yield():\n",
    "    average = sum(crop_yield_kg)/len(crop_yield_kg)\n",
    "    return average\n",
    "\n",
    "average_yield()    \n",
    "\n",
    "## Your code here up"
   ]
  },
  {
   "attachments": {},
   "cell_type": "markdown",
   "metadata": {},
   "source": [
    "## Exercise 6: Crop Recommendation"
   ]
  },
  {
   "attachments": {},
   "cell_type": "markdown",
   "metadata": {},
   "source": [
    "Create a function that takes the type of soil (brown, dark brown, black) as a parameter and returns a recommended crop (lentil, canola, oats) for that soil type. Keys: dict"
   ]
  },
  {
   "cell_type": "code",
   "execution_count": 50,
   "metadata": {},
   "outputs": [
    {
     "name": "stdout",
     "output_type": "stream",
     "text": [
      "oats\n"
     ]
    }
   ],
   "source": [
    "## Your code here down\n",
    "soil_crop = { 'brown':'lentil', 'dark brown':'canola', 'black':'oats'}\n",
    "def recommend_soil():\n",
    "    soil = input('Enter soil type: brown, dark brown or black')\n",
    "    if soil in soil_crop:\n",
    "        print (soil_crop.get(soil))\n",
    "    else:\n",
    "         print ('No data')\n",
    "\n",
    "recommend_soil()\n",
    "## Your code here up"
   ]
  },
  {
   "attachments": {},
   "cell_type": "markdown",
   "metadata": {},
   "source": [
    "## Exercise 7: Crop Rotation"
   ]
  },
  {
   "attachments": {},
   "cell_type": "markdown",
   "metadata": {},
   "source": [
    "Create a function that takes a list of crop names (lentil, barly, canola, spring wheat, durum wheat, oats) and rotates the crops by moving the last crop to the beginning of the list. Keys: list and list index"
   ]
  },
  {
   "cell_type": "code",
   "execution_count": 64,
   "metadata": {},
   "outputs": [
    {
     "name": "stdout",
     "output_type": "stream",
     "text": [
      "['oats', 'lentil', 'barley', 'canola', 'spring wheat', 'durum wheat']\n"
     ]
    }
   ],
   "source": [
    "## Your code here down\n",
    "list_of_crops = ['lentil','barley','canola','spring wheat','durum wheat','oats']\n",
    "def rotate_crops():\n",
    "    list_of_crops.insert(0,list_of_crops.pop())\n",
    "    print (list_of_crops)\n",
    "\n",
    "rotate_crops()\n",
    "## Your code here up"
   ]
  },
  {
   "attachments": {},
   "cell_type": "markdown",
   "metadata": {},
   "source": [
    "# Exercise 8: Rainfall Analysis"
   ]
  },
  {
   "attachments": {},
   "cell_type": "markdown",
   "metadata": {},
   "source": [
    "Create a function that takes a list of rainfall measurements (daily mm in a week) and returns the maximum and minimum rainfall values. Keys: min(), max(), lists"
   ]
  },
  {
   "cell_type": "code",
   "execution_count": 82,
   "metadata": {},
   "outputs": [
    {
     "name": "stdout",
     "output_type": "stream",
     "text": [
      "30\n",
      "2\n"
     ]
    }
   ],
   "source": [
    "## Your code here down\n",
    "weakly_rainfall_mm = [5,20,10,30,30,10,2]\n",
    "def max_min_weakly():\n",
    "    print(max(weakly_rainfall_mm))\n",
    "    print(min(weakly_rainfall_mm))\n",
    "\n",
    "max_min_weakly()\n",
    "## Your code here up"
   ]
  },
  {
   "attachments": {},
   "cell_type": "markdown",
   "metadata": {},
   "source": [
    "## Exercise 9: Pest Control"
   ]
  },
  {
   "attachments": {},
   "cell_type": "markdown",
   "metadata": {},
   "source": [
    "Create a function that takes the count of pests detected in a field and returns a recommendation for pest control based on the count. Please search for pests and pest control measures. Keys: if-else statement"
   ]
  },
  {
   "cell_type": "code",
   "execution_count": 78,
   "metadata": {},
   "outputs": [
    {
     "name": "stdout",
     "output_type": "stream",
     "text": [
      "Pest count is moderate. Take necessary pest control measures. Setting traps\n"
     ]
    }
   ],
   "source": [
    "## Your code here down\n",
    "def recommend_control():\n",
    "    pest_count = int(input('Enter pests count detected in the field: '))\n",
    "    if pest_count >=100:\n",
    "        print ('Pest count reached the threshold. Take necessary pest control measures. Use chemicals')\n",
    "    elif 30 <= pest_count <=99:\n",
    "        print ('Pest count is moderate. Take necessary pest control measures. Setting traps')\n",
    "    elif 1 <= pest_count <=29:\n",
    "         print ('Pest count is low. But take necessary pest control measures to prevent spread.')\n",
    "    else:\n",
    "        print ('No pets detected. But take preventative pest control measures.')\n",
    "\n",
    "\n",
    "recommend_control()\n",
    "\n",
    "## Your code here up"
   ]
  },
  {
   "attachments": {},
   "cell_type": "markdown",
   "metadata": {},
   "source": [
    "## Exercise 10: Weed Control"
   ]
  },
  {
   "attachments": {},
   "cell_type": "markdown",
   "metadata": {},
   "source": [
    "Create a function that takes a list of weed names and suggests appropriate herbicides for weed control. Keys: For Loops and dictionary."
   ]
  },
  {
   "cell_type": "code",
   "execution_count": 92,
   "metadata": {},
   "outputs": [
    {
     "name": "stdout",
     "output_type": "stream",
     "text": [
      "For timothy please apply glyphosate.\n",
      "For clover red please apply terbacil.\n",
      "For amaranth palmer please apply simazine.\n",
      "For burcucumber please apply halysulfuron-methyl.\n"
     ]
    }
   ],
   "source": [
    "## Your code here down\n",
    "weed_herbicides = {'timothy':'glyphosate','clover red':'terbacil','amaranth palmer':'simazine','burcucumber':'halysulfuron-methyl'}\n",
    "def choose_herbicide():\n",
    "    \n",
    "    for weed in weed_herbicides:\n",
    "        print (\"For {} please apply {}.\".format(weed,weed_herbicides[weed]))\n",
    "  \n",
    "choose_herbicide()\n",
    "    \n",
    "## Your code here up"
   ]
  }
 ],
 "metadata": {
  "kernelspec": {
   "display_name": "Python 3",
   "language": "python",
   "name": "python3"
  },
  "language_info": {
   "codemirror_mode": {
    "name": "ipython",
    "version": 3
   },
   "file_extension": ".py",
   "mimetype": "text/x-python",
   "name": "python",
   "nbconvert_exporter": "python",
   "pygments_lexer": "ipython3",
   "version": "3.10.9"
  },
  "orig_nbformat": 4
 },
 "nbformat": 4,
 "nbformat_minor": 2
}
