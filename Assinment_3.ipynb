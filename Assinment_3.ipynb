{
 "cells": [
  {
   "attachments": {},
   "cell_type": "markdown",
   "metadata": {},
   "source": [
    "# Assignment 3"
   ]
  },
  {
   "attachments": {},
   "cell_type": "markdown",
   "metadata": {},
   "source": [
    "**Please follow the instructions. Do not add new cell! Write your code in designated areas.**"
   ]
  },
  {
   "cell_type": "code",
   "execution_count": 5,
   "metadata": {},
   "outputs": [
    {
     "name": "stdout",
     "output_type": "stream",
     "text": [
      "Assignment 3: Solutions by Aleksandr\n",
      "Local Time: 2023-07-11 21:29:15\n",
      "Computer ID: DESKTOP-6GLOPD7\n"
     ]
    }
   ],
   "source": [
    "import datetime\n",
    "import socket\n",
    "import numpy as np\n",
    "\n",
    "# Get local time\n",
    "local_time = datetime.datetime.now().strftime(\"%Y-%m-%d %H:%M:%S\")\n",
    "\n",
    "# Get computer ID or hostname\n",
    "computer_id = socket.gethostname()\n",
    "\n",
    "# Print output with local time and computer ID\n",
    "print('Assignment 3: Solutions by Aleksandr') # Please change your name here\n",
    "print('Local Time:', local_time)\n",
    "print('Computer ID:', computer_id)"
   ]
  },
  {
   "attachments": {},
   "cell_type": "markdown",
   "metadata": {},
   "source": [
    "## NumPy"
   ]
  },
  {
   "attachments": {},
   "cell_type": "markdown",
   "metadata": {},
   "source": [
    "1. Create a 2D numpy array of size 4x5 with random integers between 1 and 10. Find the maximum value of the entire array. \n"
   ]
  },
  {
   "cell_type": "code",
   "execution_count": 13,
   "metadata": {},
   "outputs": [
    {
     "name": "stdout",
     "output_type": "stream",
     "text": [
      "[[8 9 7 4 8]\n",
      " [4 3 7 6 8]\n",
      " [6 7 6 9 8]\n",
      " [9 1 5 4 8]]\n",
      "9\n"
     ]
    }
   ],
   "source": [
    "## Your code here down\n",
    "arr_2d = np.random.randint(1, 10, size=(4,5))\n",
    "print(arr_2d)\n",
    "print(arr_2d.max())\n",
    "\n",
    "# print(mean)\n",
    "#print(std) and so on\n",
    "## Your code here up"
   ]
  },
  {
   "attachments": {},
   "cell_type": "markdown",
   "metadata": {},
   "source": [
    "2. Create a 1D numpy array of size 20 with random floats between 0 and 1. Reshape the array into a 4x5 matrix. Compute the mean of each row."
   ]
  },
  {
   "cell_type": "code",
   "execution_count": 1,
   "metadata": {},
   "outputs": [
    {
     "name": "stdout",
     "output_type": "stream",
     "text": [
      "Original 1D array:\n",
      "[0.10790618 0.73512598 0.559653   0.87917032 0.29408174 0.20054601\n",
      " 0.24829216 0.91315133 0.86927837 0.52095311 0.17406205 0.30079038\n",
      " 0.97849592 0.94407044 0.40750823 0.03935019 0.27340438 0.24236863\n",
      " 0.41130929 0.61599066]\n",
      "\n",
      "Reshaped 4x5 matrix:\n",
      "[[0.10790618 0.73512598 0.559653   0.87917032 0.29408174]\n",
      " [0.20054601 0.24829216 0.91315133 0.86927837 0.52095311]\n",
      " [0.17406205 0.30079038 0.97849592 0.94407044 0.40750823]\n",
      " [0.03935019 0.27340438 0.24236863 0.41130929 0.61599066]]\n",
      "\n",
      "Mean of each row:\n",
      "[0.51518745 0.5504442  0.56098541 0.31648463]\n"
     ]
    }
   ],
   "source": [
    "## Your code here down\n",
    "\n",
    "# Create a 1D numpy array of size 20 with random floats between 0 and 1\n",
    "random_array = np.random.rand(20)\n",
    "\n",
    "# Reshape the array into a 4x5 matrix\n",
    "matrix_4x5 = random_array.reshape(4, 5)\n",
    "\n",
    "# Compute the mean of each row\n",
    "row_means = np.mean(matrix_4x5, axis=1)\n",
    "\n",
    "print(\"Original 1D array:\")\n",
    "print(random_array)\n",
    "\n",
    "print(\"\\nReshaped 4x5 matrix:\")\n",
    "print(matrix_4x5)\n",
    "\n",
    "print(\"\\nMean of each row:\")\n",
    "print(row_means)\n",
    "\n",
    "\n",
    "\n",
    "## Your code here up"
   ]
  },
  {
   "attachments": {},
   "cell_type": "markdown",
   "metadata": {},
   "source": [
    "3. Create a 2D numpy array of size 5x5 with random integers between 1 and 100. Compute standard deviation of each column."
   ]
  },
  {
   "cell_type": "code",
   "execution_count": 2,
   "metadata": {},
   "outputs": [
    {
     "name": "stdout",
     "output_type": "stream",
     "text": [
      "Random 2D array:\n",
      "[[ 29 100  14  69   1]\n",
      " [ 69  32  38  12  30]\n",
      " [ 90  47  51  14   2]\n",
      " [ 78  67  16  63  52]\n",
      " [ 80   6  11  57  13]]\n",
      "\n",
      "Standard deviation of each column:\n",
      "[21.17923511 31.8031445  15.73531061 24.79516082 19.27277873]\n"
     ]
    }
   ],
   "source": [
    "## Your code here down\n",
    "\n",
    "# Create a 2D numpy array of size 5x5 with random integers between 1 and 100\n",
    "random_array = np.random.randint(1, 101, size=(5, 5))\n",
    "\n",
    "# Compute the standard deviation of each column\n",
    "column_std = np.std(random_array, axis=0)\n",
    "\n",
    "print(\"Random 2D array:\")\n",
    "print(random_array)\n",
    "\n",
    "print(\"\\nStandard deviation of each column:\")\n",
    "print(column_std)\n",
    "\n",
    "## Your code here up"
   ]
  },
  {
   "attachments": {},
   "cell_type": "markdown",
   "metadata": {},
   "source": [
    "4. Create a 1D numpy array of size 15 with random floats between -10 and 10. Replace all negative values with their absolute values."
   ]
  },
  {
   "cell_type": "code",
   "execution_count": 3,
   "metadata": {},
   "outputs": [
    {
     "name": "stdout",
     "output_type": "stream",
     "text": [
      "Original 1D array:\n",
      "[3.9443473  2.44945784 4.08038017 9.87909557 9.73998126 8.4281665\n",
      " 2.39759892 8.65405515 1.40078077 6.91261835 3.58715161 7.1826152\n",
      " 8.24980562 8.39548466 5.20023606]\n"
     ]
    }
   ],
   "source": [
    "## Your code here down\n",
    "\n",
    "# Create a 1D numpy array of size 15 with random floats between -10 and 10\n",
    "random_array = np.random.uniform(-10, 10, size=15)\n",
    "\n",
    "# Replace negative values with their absolute values\n",
    "random_array = np.abs(random_array)\n",
    "\n",
    "print(\"Original 1D array:\")\n",
    "print(random_array)\n",
    "\n",
    "## Your code here up"
   ]
  },
  {
   "attachments": {},
   "cell_type": "markdown",
   "metadata": {},
   "source": [
    "5. Create a 2D numpy array of size 3x4 with random integers between 1 and 100. Calculate the sum of all elements in the array."
   ]
  },
  {
   "cell_type": "code",
   "execution_count": 4,
   "metadata": {},
   "outputs": [
    {
     "name": "stdout",
     "output_type": "stream",
     "text": [
      "Random 2D array:\n",
      "[[36 63 18 18]\n",
      " [89  7 93 94]\n",
      " [11 66 47 81]]\n",
      "\n",
      "Sum of all elements in the array: 623\n"
     ]
    }
   ],
   "source": [
    "## Your code here down\n",
    "# Create a 2D numpy array of size 3x4 with random integers between 1 and 100\n",
    "random_array = np.random.randint(1, 101, size=(3, 4))\n",
    "\n",
    "# Calculate the sum of all elements in the array\n",
    "array_sum = np.sum(random_array)\n",
    "\n",
    "print(\"Random 2D array:\")\n",
    "print(random_array)\n",
    "\n",
    "print(\"\\nSum of all elements in the array:\", array_sum)\n",
    "\n",
    "## Your code here up"
   ]
  },
  {
   "attachments": {},
   "cell_type": "markdown",
   "metadata": {},
   "source": [
    "7. Create a 2D numpy array of size 4x6 with random floats between 0 and 1. Normalize each column by subtracting the column mean and dividing by the column standard deviation."
   ]
  },
  {
   "cell_type": "code",
   "execution_count": 5,
   "metadata": {},
   "outputs": [
    {
     "name": "stdout",
     "output_type": "stream",
     "text": [
      "Original 2D array:\n",
      "[[0.53729542 0.16212528 0.20674118 0.42729683 0.193539   0.35301861]\n",
      " [0.49853133 0.69906814 0.22100492 0.40612911 0.53163234 0.27666699]\n",
      " [0.37671312 0.8643547  0.39416761 0.10186045 0.07887891 0.90371143]\n",
      " [0.46918144 0.31299791 0.47632358 0.42954375 0.26369918 0.08007308]]\n",
      "\n",
      "Normalized 2D array:\n",
      "[[ 1.12841098 -1.22645481 -1.02857414  0.62163403 -0.44095383 -0.16477945]\n",
      " [ 0.47423079  0.66855201 -0.90404907  0.46878606  1.59020271 -0.41465933]\n",
      " [-1.58156556  1.25189     0.60769322 -1.72827868 -1.12979494  1.63750104]\n",
      " [-0.02107622 -0.6939872   1.32492999  0.63785858 -0.01945393 -1.05806225]]\n"
     ]
    }
   ],
   "source": [
    "## Your code here down\n",
    "# Create a 2D numpy array of size 4x6 with random floats between 0 and 1\n",
    "random_array = np.random.rand(4, 6)\n",
    "\n",
    "# Calculate the column mean\n",
    "column_mean = np.mean(random_array, axis=0)\n",
    "\n",
    "# Calculate the column standard deviation\n",
    "column_std = np.std(random_array, axis=0)\n",
    "\n",
    "# Normalize each column by subtracting the column mean and dividing by the column standard deviation\n",
    "normalized_array = (random_array - column_mean) / column_std\n",
    "\n",
    "print(\"Original 2D array:\")\n",
    "print(random_array)\n",
    "\n",
    "print(\"\\nNormalized 2D array:\")\n",
    "print(normalized_array)\n",
    "\n",
    "## Your code here up"
   ]
  },
  {
   "attachments": {},
   "cell_type": "markdown",
   "metadata": {},
   "source": [
    "8. Create a 2D numpy array of size 10x10 with random integers between 1 and 100. Replace all values greater than 50 with 1 and all other values with 0."
   ]
  },
  {
   "cell_type": "code",
   "execution_count": 6,
   "metadata": {},
   "outputs": [
    {
     "name": "stdout",
     "output_type": "stream",
     "text": [
      "Random 2D array:\n",
      "[[ 58  11  51  16  62  40  34  21  98  14]\n",
      " [ 83  75  56 100   9  51  66  52  24  33]\n",
      " [100  63  43   1  26  62  94   9  79  86]\n",
      " [ 83  39  30  32  11  26  27  93  89  39]\n",
      " [ 41  72  80  18  83  22  20  61  49  79]\n",
      " [ 15  27  22  79  35  78  15  94  78  87]\n",
      " [  4  90  57  89  72  39  38  71  79  43]\n",
      " [ 96  48  33  41  58   6  29  91   8  45]\n",
      " [ 37  47  30  33  60  88  55  89  88  54]\n",
      " [ 17  14  94  52  11   1  88  89  46  21]]\n",
      "\n",
      "Binary 2D array:\n",
      "[[1 0 1 0 1 0 0 0 1 0]\n",
      " [1 1 1 1 0 1 1 1 0 0]\n",
      " [1 1 0 0 0 1 1 0 1 1]\n",
      " [1 0 0 0 0 0 0 1 1 0]\n",
      " [0 1 1 0 1 0 0 1 0 1]\n",
      " [0 0 0 1 0 1 0 1 1 1]\n",
      " [0 1 1 1 1 0 0 1 1 0]\n",
      " [1 0 0 0 1 0 0 1 0 0]\n",
      " [0 0 0 0 1 1 1 1 1 1]\n",
      " [0 0 1 1 0 0 1 1 0 0]]\n"
     ]
    }
   ],
   "source": [
    "## Your code here down\n",
    "# Create a 2D numpy array of size 10x10 with random integers between 1 and 100\n",
    "random_array = np.random.randint(1, 101, size=(10, 10))\n",
    "\n",
    "# Replace all values greater than 50 with 1 and all other values with 0\n",
    "binary_array = np.where(random_array > 50, 1, 0)\n",
    "\n",
    "print(\"Random 2D array:\")\n",
    "print(random_array)\n",
    "\n",
    "print(\"\\nBinary 2D array:\")\n",
    "print(binary_array)\n",
    "\n",
    "## Your code here up"
   ]
  },
  {
   "attachments": {},
   "cell_type": "markdown",
   "metadata": {},
   "source": [
    "9. Create a 1D numpy array of size 50 with random floats between 0 and 1. Find the number of elements greater than 0.5."
   ]
  },
  {
   "cell_type": "code",
   "execution_count": 7,
   "metadata": {},
   "outputs": [
    {
     "name": "stdout",
     "output_type": "stream",
     "text": [
      "Random 1D array:\n",
      "[0.06991865 0.08696968 0.87816841 0.25787145 0.79024154 0.20483553\n",
      " 0.66081863 0.22166936 0.20940846 0.06237691 0.71289085 0.74944469\n",
      " 0.55305413 0.68880192 0.4155187  0.05125838 0.9062521  0.5221314\n",
      " 0.72742169 0.76743689 0.09589138 0.60114702 0.0139306  0.59965475\n",
      " 0.73681752 0.4770122  0.9535965  0.15304772 0.52539743 0.23270683\n",
      " 0.40558067 0.10076812 0.30419463 0.93162198 0.36661355 0.61215554\n",
      " 0.43046638 0.12673246 0.61141757 0.68352781 0.01424094 0.17375111\n",
      " 0.32569462 0.59724961 0.96110136 0.82670889 0.12228831 0.81282719\n",
      " 0.65759334 0.38505276]\n",
      "\n",
      "Number of elements greater than 0.5: 25\n"
     ]
    }
   ],
   "source": [
    "## Your code here down\n",
    "# Create a 1D numpy array of size 50 with random floats between 0 and 1\n",
    "random_array = np.random.rand(50)\n",
    "\n",
    "# Find the number of elements greater than 0.5\n",
    "count_greater_than_0_5 = np.sum(random_array > 0.5)\n",
    "\n",
    "print(\"Random 1D array:\")\n",
    "print(random_array)\n",
    "\n",
    "print(\"\\nNumber of elements greater than 0.5:\", count_greater_than_0_5)\n",
    "\n",
    "## Your code here up"
   ]
  },
  {
   "attachments": {},
   "cell_type": "markdown",
   "metadata": {},
   "source": [
    "10. Create a 2D numpy array of size 5x5 with random floats between -1 and 1. Find the absolute difference between the maximum and minimum values in each row."
   ]
  },
  {
   "cell_type": "code",
   "execution_count": 8,
   "metadata": {},
   "outputs": [
    {
     "name": "stdout",
     "output_type": "stream",
     "text": [
      "Random 2D array:\n",
      "[[ 0.12794816 -0.8773968   0.29477031  0.24921248  0.13271497]\n",
      " [ 0.56485811 -0.66559805  0.24587446 -0.56928892 -0.81181819]\n",
      " [-0.30296512  0.84805236 -0.76844947  0.18636431  0.32590045]\n",
      " [ 0.41842787  0.87086326  0.89981133  0.25822795 -0.24830375]\n",
      " [ 0.44546654  0.63586015 -0.00532505  0.19166966 -0.6211888 ]]\n",
      "\n",
      "Absolute difference between max and min values in each row:\n",
      "[1.17216711 1.3766763  1.61650183 1.14811508 1.25704896]\n"
     ]
    }
   ],
   "source": [
    "## Your code here down\n",
    "# Create a 2D numpy array of size 5x5 with random floats between -1 and 1\n",
    "random_array = np.random.uniform(-1, 1, size=(5, 5))\n",
    "\n",
    "# Find the absolute difference between the maximum and minimum values in each row\n",
    "row_abs_diff = np.abs(np.max(random_array, axis=1) - np.min(random_array, axis=1))\n",
    "\n",
    "print(\"Random 2D array:\")\n",
    "print(random_array)\n",
    "\n",
    "print(\"\\nAbsolute difference between max and min values in each row:\")\n",
    "print(row_abs_diff)\n",
    "\n",
    "\n",
    "## Your code here up"
   ]
  },
  {
   "attachments": {},
   "cell_type": "markdown",
   "metadata": {},
   "source": [
    "## Pandas"
   ]
  },
  {
   "attachments": {},
   "cell_type": "markdown",
   "metadata": {},
   "source": [
    "Please refer the dataframe (farm data) we have created in the training. Please copy that cell and paste it below before starting this part. "
   ]
  },
  {
   "cell_type": "code",
   "execution_count": 11,
   "metadata": {},
   "outputs": [],
   "source": [
    "import random\n",
    "import pandas as pd\n",
    "\n",
    "# Define the range for longitude and latitude\n",
    "lon_range = (-105, -100)\n",
    "lat_range = (50, 52)\n",
    "\n",
    "# Define the list of soil types\n",
    "soil_types = ['black', 'gray', 'dark brown', 'brown', None]\n",
    "\n",
    "# Create an empty list to store the farms\n",
    "farms = []\n",
    "\n",
    "# Generate 40 farms\n",
    "for i in range(40):\n",
    "    farm = {\n",
    "        'farm_name': f'Farm {i+1}', # f is formated string\n",
    "        'farm_lon': round(random.uniform(lon_range[0], lon_range[1]), 2), # random lon with 2 decimal points\n",
    "        'farm_lat': round(random.uniform(lat_range[0], lat_range[1]), 2), # rantom lat with 2 decimal points\n",
    "        'temperature': round(random.uniform(18, 25), 1), #random temp with 1 decimal points\n",
    "        'precipitation': round(random.uniform(20, 50), 1), # random prec with 1 decimal points\n",
    "        'soil_type': random.choice(soil_types) # random soil types from above list\n",
    "    }\n",
    "    farms.append(farm)"
   ]
  },
  {
   "cell_type": "code",
   "execution_count": 12,
   "metadata": {},
   "outputs": [],
   "source": [
    "df = pd.DataFrame(farms)# your code here"
   ]
  },
  {
   "attachments": {},
   "cell_type": "markdown",
   "metadata": {},
   "source": [
    "1. Select the rows where the temperature is above 20 degrees Celsius."
   ]
  },
  {
   "cell_type": "code",
   "execution_count": 13,
   "metadata": {},
   "outputs": [
    {
     "name": "stdout",
     "output_type": "stream",
     "text": [
      "   farm_name  farm_lon  farm_lat  temperature  precipitation   soil_type\n",
      "0     Farm 1   -100.66     50.10         23.1           46.3       brown\n",
      "3     Farm 4   -101.96     51.49         21.9           32.0       black\n",
      "4     Farm 5   -104.31     50.20         23.5           22.8        None\n",
      "5     Farm 6   -102.44     50.05         20.6           36.5        gray\n",
      "6     Farm 7   -100.80     50.35         21.9           49.2  dark brown\n",
      "7     Farm 8   -100.98     50.16         20.2           27.5  dark brown\n",
      "8     Farm 9   -103.55     51.08         22.2           38.5        gray\n",
      "9    Farm 10   -101.88     51.79         21.7           35.1       black\n",
      "11   Farm 12   -104.51     50.22         22.6           38.3       black\n",
      "12   Farm 13   -100.79     51.74         22.8           46.9  dark brown\n",
      "13   Farm 14   -102.94     51.65         20.3           29.8        gray\n",
      "14   Farm 15   -100.46     51.36         20.4           49.5       brown\n",
      "16   Farm 17   -100.80     50.94         21.5           49.7       black\n",
      "17   Farm 18   -103.72     50.98         21.6           36.3  dark brown\n",
      "19   Farm 20   -103.86     50.66         22.2           37.4        None\n",
      "20   Farm 21   -102.89     50.33         22.2           20.3  dark brown\n",
      "21   Farm 22   -102.29     51.62         22.9           29.0        None\n",
      "22   Farm 23   -103.05     51.28         21.9           22.7        None\n",
      "23   Farm 24   -102.77     51.82         21.1           23.9        None\n",
      "25   Farm 26   -102.29     50.46         24.8           24.0        None\n",
      "27   Farm 28   -103.61     50.08         23.1           30.4        gray\n",
      "28   Farm 29   -101.85     50.13         21.1           34.2       brown\n",
      "29   Farm 30   -101.80     51.29         24.4           48.6       black\n",
      "30   Farm 31   -101.76     50.47         21.5           47.2        gray\n",
      "32   Farm 33   -100.71     51.36         20.8           47.5  dark brown\n",
      "33   Farm 34   -104.45     50.76         24.8           37.5       black\n",
      "36   Farm 37   -102.76     51.11         23.2           34.5  dark brown\n",
      "38   Farm 39   -100.92     51.48         21.3           30.3        None\n",
      "39   Farm 40   -102.48     50.88         24.0           39.5        None\n"
     ]
    }
   ],
   "source": [
    "## Your code here down\n",
    "# Select the rows where the temperature is above 20 degrees Celsius\n",
    "selected_rows = df[df['temperature'] > 20]\n",
    "\n",
    "print(selected_rows)\n",
    "\n",
    "## Your code here up"
   ]
  },
  {
   "attachments": {},
   "cell_type": "markdown",
   "metadata": {},
   "source": [
    "2. Sort the DataFrame by precipitation in descending order."
   ]
  },
  {
   "cell_type": "code",
   "execution_count": 14,
   "metadata": {},
   "outputs": [
    {
     "name": "stdout",
     "output_type": "stream",
     "text": [
      "   farm_name  farm_lon  farm_lat  temperature  precipitation   soil_type\n",
      "16   Farm 17   -100.80     50.94         21.5           49.7       black\n",
      "14   Farm 15   -100.46     51.36         20.4           49.5       brown\n",
      "6     Farm 7   -100.80     50.35         21.9           49.2  dark brown\n",
      "29   Farm 30   -101.80     51.29         24.4           48.6       black\n",
      "32   Farm 33   -100.71     51.36         20.8           47.5  dark brown\n",
      "30   Farm 31   -101.76     50.47         21.5           47.2        gray\n",
      "12   Farm 13   -100.79     51.74         22.8           46.9  dark brown\n",
      "0     Farm 1   -100.66     50.10         23.1           46.3       brown\n",
      "15   Farm 16   -104.91     50.66         19.2           45.7        gray\n",
      "39   Farm 40   -102.48     50.88         24.0           39.5        None\n",
      "8     Farm 9   -103.55     51.08         22.2           38.5        gray\n",
      "11   Farm 12   -104.51     50.22         22.6           38.3       black\n",
      "33   Farm 34   -104.45     50.76         24.8           37.5       black\n",
      "19   Farm 20   -103.86     50.66         22.2           37.4        None\n",
      "5     Farm 6   -102.44     50.05         20.6           36.5        gray\n",
      "17   Farm 18   -103.72     50.98         21.6           36.3  dark brown\n",
      "26   Farm 27   -102.87     51.49         18.9           36.2        None\n",
      "9    Farm 10   -101.88     51.79         21.7           35.1       black\n",
      "36   Farm 37   -102.76     51.11         23.2           34.5  dark brown\n",
      "28   Farm 29   -101.85     50.13         21.1           34.2       brown\n",
      "2     Farm 3   -104.63     50.94         19.1           33.8  dark brown\n",
      "10   Farm 11   -103.38     51.17         19.5           33.7       brown\n",
      "18   Farm 19   -100.24     51.85         20.0           33.7  dark brown\n",
      "3     Farm 4   -101.96     51.49         21.9           32.0       black\n",
      "27   Farm 28   -103.61     50.08         23.1           30.4        gray\n",
      "38   Farm 39   -100.92     51.48         21.3           30.3        None\n",
      "13   Farm 14   -102.94     51.65         20.3           29.8        gray\n",
      "21   Farm 22   -102.29     51.62         22.9           29.0        None\n",
      "7     Farm 8   -100.98     50.16         20.2           27.5  dark brown\n",
      "35   Farm 36   -100.25     50.44         19.0           25.4        None\n",
      "25   Farm 26   -102.29     50.46         24.8           24.0        None\n",
      "23   Farm 24   -102.77     51.82         21.1           23.9        None\n",
      "37   Farm 38   -104.53     51.13         18.6           22.9  dark brown\n",
      "4     Farm 5   -104.31     50.20         23.5           22.8        None\n",
      "22   Farm 23   -103.05     51.28         21.9           22.7        None\n",
      "1     Farm 2   -100.57     51.40         19.0           22.7       black\n",
      "24   Farm 25   -103.06     50.59         18.8           21.5  dark brown\n",
      "31   Farm 32   -103.40     50.14         19.4           21.2       black\n",
      "34   Farm 35   -102.61     50.50         20.0           20.8        None\n",
      "20   Farm 21   -102.89     50.33         22.2           20.3  dark brown\n"
     ]
    }
   ],
   "source": [
    "## Your code here down\n",
    "# Sort the DataFrame by precipitation in descending order\n",
    "sorted_df = df.sort_values(by='precipitation', ascending=False)\n",
    "\n",
    "print(sorted_df)\n",
    "\n",
    "\n",
    "## Your code here up"
   ]
  },
  {
   "attachments": {},
   "cell_type": "markdown",
   "metadata": {},
   "source": [
    "3. Filter the DataFrame to include only the farms located within latitude (51.15 & 51.00) range."
   ]
  },
  {
   "cell_type": "code",
   "execution_count": 15,
   "metadata": {},
   "outputs": [
    {
     "name": "stdout",
     "output_type": "stream",
     "text": [
      "   farm_name  farm_lon  farm_lat  temperature  precipitation   soil_type\n",
      "8     Farm 9   -103.55     51.08         22.2           38.5        gray\n",
      "36   Farm 37   -102.76     51.11         23.2           34.5  dark brown\n",
      "37   Farm 38   -104.53     51.13         18.6           22.9  dark brown\n"
     ]
    }
   ],
   "source": [
    "## Your code here down\n",
    "# Filter the DataFrame to include only the farms within latitude range (51.00, 51.15)\n",
    "filtered_df = df[(df['farm_lat'] >= 51.00) & (df['farm_lat'] <= 51.15)]\n",
    "\n",
    "print(filtered_df)\n",
    "\n",
    "## Your code here up"
   ]
  },
  {
   "attachments": {},
   "cell_type": "markdown",
   "metadata": {},
   "source": [
    " 4. Calculate the standard deviation of precipitation for each soil type."
   ]
  },
  {
   "cell_type": "code",
   "execution_count": 16,
   "metadata": {},
   "outputs": [
    {
     "name": "stdout",
     "output_type": "stream",
     "text": [
      "soil_type\n",
      "black         10.458617\n",
      "brown          8.161852\n",
      "dark brown    10.463121\n",
      "gray           7.367881\n",
      "Name: precipitation, dtype: float64\n"
     ]
    }
   ],
   "source": [
    "## Your code here down\n",
    "# Calculate the standard deviation of precipitation for each soil type\n",
    "std_dev_by_soil_type = df.groupby('soil_type')['precipitation'].std()\n",
    "\n",
    "print(std_dev_by_soil_type)\n",
    "\n",
    "## Your code here up"
   ]
  },
  {
   "attachments": {},
   "cell_type": "markdown",
   "metadata": {},
   "source": [
    "5. Calculate the cumulative sum of precipitation for each soil type."
   ]
  },
  {
   "cell_type": "code",
   "execution_count": 18,
   "metadata": {},
   "outputs": [
    {
     "name": "stdout",
     "output_type": "stream",
     "text": [
      "   farm_name  farm_lon  farm_lat  temperature  precipitation   soil_type  \\\n",
      "0     Farm 1   -100.66     50.10         23.1           46.3       brown   \n",
      "1     Farm 2   -100.57     51.40         19.0           22.7       black   \n",
      "2     Farm 3   -104.63     50.94         19.1           33.8  dark brown   \n",
      "3     Farm 4   -101.96     51.49         21.9           32.0       black   \n",
      "4     Farm 5   -104.31     50.20         23.5           22.8        None   \n",
      "5     Farm 6   -102.44     50.05         20.6           36.5        gray   \n",
      "6     Farm 7   -100.80     50.35         21.9           49.2  dark brown   \n",
      "7     Farm 8   -100.98     50.16         20.2           27.5  dark brown   \n",
      "8     Farm 9   -103.55     51.08         22.2           38.5        gray   \n",
      "9    Farm 10   -101.88     51.79         21.7           35.1       black   \n",
      "10   Farm 11   -103.38     51.17         19.5           33.7       brown   \n",
      "11   Farm 12   -104.51     50.22         22.6           38.3       black   \n",
      "12   Farm 13   -100.79     51.74         22.8           46.9  dark brown   \n",
      "13   Farm 14   -102.94     51.65         20.3           29.8        gray   \n",
      "14   Farm 15   -100.46     51.36         20.4           49.5       brown   \n",
      "15   Farm 16   -104.91     50.66         19.2           45.7        gray   \n",
      "16   Farm 17   -100.80     50.94         21.5           49.7       black   \n",
      "17   Farm 18   -103.72     50.98         21.6           36.3  dark brown   \n",
      "18   Farm 19   -100.24     51.85         20.0           33.7  dark brown   \n",
      "19   Farm 20   -103.86     50.66         22.2           37.4        None   \n",
      "20   Farm 21   -102.89     50.33         22.2           20.3  dark brown   \n",
      "21   Farm 22   -102.29     51.62         22.9           29.0        None   \n",
      "22   Farm 23   -103.05     51.28         21.9           22.7        None   \n",
      "23   Farm 24   -102.77     51.82         21.1           23.9        None   \n",
      "24   Farm 25   -103.06     50.59         18.8           21.5  dark brown   \n",
      "25   Farm 26   -102.29     50.46         24.8           24.0        None   \n",
      "26   Farm 27   -102.87     51.49         18.9           36.2        None   \n",
      "27   Farm 28   -103.61     50.08         23.1           30.4        gray   \n",
      "28   Farm 29   -101.85     50.13         21.1           34.2       brown   \n",
      "29   Farm 30   -101.80     51.29         24.4           48.6       black   \n",
      "30   Farm 31   -101.76     50.47         21.5           47.2        gray   \n",
      "31   Farm 32   -103.40     50.14         19.4           21.2       black   \n",
      "32   Farm 33   -100.71     51.36         20.8           47.5  dark brown   \n",
      "33   Farm 34   -104.45     50.76         24.8           37.5       black   \n",
      "34   Farm 35   -102.61     50.50         20.0           20.8        None   \n",
      "35   Farm 36   -100.25     50.44         19.0           25.4        None   \n",
      "36   Farm 37   -102.76     51.11         23.2           34.5  dark brown   \n",
      "37   Farm 38   -104.53     51.13         18.6           22.9  dark brown   \n",
      "38   Farm 39   -100.92     51.48         21.3           30.3        None   \n",
      "39   Farm 40   -102.48     50.88         24.0           39.5        None   \n",
      "\n",
      "    cumulative_sum_precipitation  \n",
      "0                           46.3  \n",
      "1                           22.7  \n",
      "2                           33.8  \n",
      "3                           54.7  \n",
      "4                            NaN  \n",
      "5                           36.5  \n",
      "6                           83.0  \n",
      "7                          110.5  \n",
      "8                           75.0  \n",
      "9                           89.8  \n",
      "10                          80.0  \n",
      "11                         128.1  \n",
      "12                         157.4  \n",
      "13                         104.8  \n",
      "14                         129.5  \n",
      "15                         150.5  \n",
      "16                         177.8  \n",
      "17                         193.7  \n",
      "18                         227.4  \n",
      "19                           NaN  \n",
      "20                         247.7  \n",
      "21                           NaN  \n",
      "22                           NaN  \n",
      "23                           NaN  \n",
      "24                         269.2  \n",
      "25                           NaN  \n",
      "26                           NaN  \n",
      "27                         180.9  \n",
      "28                         163.7  \n",
      "29                         226.4  \n",
      "30                         228.1  \n",
      "31                         247.6  \n",
      "32                         316.7  \n",
      "33                         285.1  \n",
      "34                           NaN  \n",
      "35                           NaN  \n",
      "36                         351.2  \n",
      "37                         374.1  \n",
      "38                           NaN  \n",
      "39                           NaN  \n"
     ]
    }
   ],
   "source": [
    "## Your code here down\n",
    "# Calculate the cumulative sum of precipitation for each soil type\n",
    "cumulative_sum_by_soil_type = df.groupby('soil_type')['precipitation'].cumsum()\n",
    "\n",
    "# Add the cumulative sum as a new column in the DataFrame\n",
    "df['cumulative_sum_precipitation'] = cumulative_sum_by_soil_type\n",
    "\n",
    "print(df)\n",
    "\n",
    "## Your code here up"
   ]
  },
  {
   "attachments": {},
   "cell_type": "markdown",
   "metadata": {},
   "source": [
    "6. Determine the top 3 farms with the highest average temperature."
   ]
  },
  {
   "cell_type": "code",
   "execution_count": 19,
   "metadata": {},
   "outputs": [
    {
     "name": "stdout",
     "output_type": "stream",
     "text": [
      "farm_name\n",
      "Farm 26    24.8\n",
      "Farm 34    24.8\n",
      "Farm 30    24.4\n",
      "Name: temperature, dtype: float64\n"
     ]
    }
   ],
   "source": [
    "## Your code here down\n",
    "# Group by farm_name and calculate the average temperature for each farm\n",
    "average_temp_by_farm = df.groupby('farm_name')['temperature'].mean()\n",
    "\n",
    "# Sort farms based on average temperature in descending order\n",
    "sorted_farms = average_temp_by_farm.sort_values(ascending=False)\n",
    "\n",
    "# Select the top 3 farms with the highest average temperature\n",
    "top_3_farms = sorted_farms.head(3)\n",
    "\n",
    "print(top_3_farms)\n",
    "\n",
    "\n",
    "## Your code here up"
   ]
  },
  {
   "attachments": {},
   "cell_type": "markdown",
   "metadata": {},
   "source": [
    "7. Find famrs in each soil type that have the highest temperature."
   ]
  },
  {
   "cell_type": "code",
   "execution_count": 20,
   "metadata": {},
   "outputs": [
    {
     "name": "stdout",
     "output_type": "stream",
     "text": [
      "   farm_name  farm_lon  farm_lat  temperature  precipitation   soil_type  \\\n",
      "33   Farm 34   -104.45     50.76         24.8           37.5       black   \n",
      "0     Farm 1   -100.66     50.10         23.1           46.3       brown   \n",
      "36   Farm 37   -102.76     51.11         23.2           34.5  dark brown   \n",
      "27   Farm 28   -103.61     50.08         23.1           30.4        gray   \n",
      "\n",
      "    cumulative_sum_precipitation  \n",
      "33                         285.1  \n",
      "0                           46.3  \n",
      "36                         351.2  \n",
      "27                         180.9  \n"
     ]
    }
   ],
   "source": [
    "## Your code here down\n",
    "# Group by soil_type and find the maximum temperature for each group\n",
    "max_temp_by_soil_type = df.groupby('soil_type')['temperature'].max()\n",
    "\n",
    "# Filter the original DataFrame to select the farms with the highest temperature in each soil type\n",
    "farms_with_highest_temp_by_soil_type = df.loc[df.groupby('soil_type')['temperature'].idxmax()]\n",
    "\n",
    "print(farms_with_highest_temp_by_soil_type)\n",
    "\n",
    "## Your code here up"
   ]
  },
  {
   "attachments": {},
   "cell_type": "markdown",
   "metadata": {},
   "source": [
    "8. Create new column 'percentage_tot_prec' and add the percentage contribution of each farm's precipitation (relative to total precipitation) to the column."
   ]
  },
  {
   "cell_type": "code",
   "execution_count": 21,
   "metadata": {},
   "outputs": [
    {
     "name": "stdout",
     "output_type": "stream",
     "text": [
      "   farm_name  farm_lon  farm_lat  temperature  precipitation   soil_type  \\\n",
      "0     Farm 1   -100.66     50.10         23.1           46.3       brown   \n",
      "1     Farm 2   -100.57     51.40         19.0           22.7       black   \n",
      "2     Farm 3   -104.63     50.94         19.1           33.8  dark brown   \n",
      "3     Farm 4   -101.96     51.49         21.9           32.0       black   \n",
      "4     Farm 5   -104.31     50.20         23.5           22.8        None   \n",
      "5     Farm 6   -102.44     50.05         20.6           36.5        gray   \n",
      "6     Farm 7   -100.80     50.35         21.9           49.2  dark brown   \n",
      "7     Farm 8   -100.98     50.16         20.2           27.5  dark brown   \n",
      "8     Farm 9   -103.55     51.08         22.2           38.5        gray   \n",
      "9    Farm 10   -101.88     51.79         21.7           35.1       black   \n",
      "10   Farm 11   -103.38     51.17         19.5           33.7       brown   \n",
      "11   Farm 12   -104.51     50.22         22.6           38.3       black   \n",
      "12   Farm 13   -100.79     51.74         22.8           46.9  dark brown   \n",
      "13   Farm 14   -102.94     51.65         20.3           29.8        gray   \n",
      "14   Farm 15   -100.46     51.36         20.4           49.5       brown   \n",
      "15   Farm 16   -104.91     50.66         19.2           45.7        gray   \n",
      "16   Farm 17   -100.80     50.94         21.5           49.7       black   \n",
      "17   Farm 18   -103.72     50.98         21.6           36.3  dark brown   \n",
      "18   Farm 19   -100.24     51.85         20.0           33.7  dark brown   \n",
      "19   Farm 20   -103.86     50.66         22.2           37.4        None   \n",
      "20   Farm 21   -102.89     50.33         22.2           20.3  dark brown   \n",
      "21   Farm 22   -102.29     51.62         22.9           29.0        None   \n",
      "22   Farm 23   -103.05     51.28         21.9           22.7        None   \n",
      "23   Farm 24   -102.77     51.82         21.1           23.9        None   \n",
      "24   Farm 25   -103.06     50.59         18.8           21.5  dark brown   \n",
      "25   Farm 26   -102.29     50.46         24.8           24.0        None   \n",
      "26   Farm 27   -102.87     51.49         18.9           36.2        None   \n",
      "27   Farm 28   -103.61     50.08         23.1           30.4        gray   \n",
      "28   Farm 29   -101.85     50.13         21.1           34.2       brown   \n",
      "29   Farm 30   -101.80     51.29         24.4           48.6       black   \n",
      "30   Farm 31   -101.76     50.47         21.5           47.2        gray   \n",
      "31   Farm 32   -103.40     50.14         19.4           21.2       black   \n",
      "32   Farm 33   -100.71     51.36         20.8           47.5  dark brown   \n",
      "33   Farm 34   -104.45     50.76         24.8           37.5       black   \n",
      "34   Farm 35   -102.61     50.50         20.0           20.8        None   \n",
      "35   Farm 36   -100.25     50.44         19.0           25.4        None   \n",
      "36   Farm 37   -102.76     51.11         23.2           34.5  dark brown   \n",
      "37   Farm 38   -104.53     51.13         18.6           22.9  dark brown   \n",
      "38   Farm 39   -100.92     51.48         21.3           30.3        None   \n",
      "39   Farm 40   -102.48     50.88         24.0           39.5        None   \n",
      "\n",
      "    cumulative_sum_precipitation  percentage_tot_prec  \n",
      "0                           46.3             3.396919  \n",
      "1                           22.7             1.665444  \n",
      "2                           33.8             2.479824  \n",
      "3                           54.7             2.347762  \n",
      "4                            NaN             1.672781  \n",
      "5                           36.5             2.677916  \n",
      "6                           83.0             3.609685  \n",
      "7                          110.5             2.017608  \n",
      "8                           75.0             2.824652  \n",
      "9                           89.8             2.575202  \n",
      "10                          80.0             2.472487  \n",
      "11                         128.1             2.809978  \n",
      "12                         157.4             3.440939  \n",
      "13                         104.8             2.186354  \n",
      "14                         129.5             3.631695  \n",
      "15                         150.5             3.352898  \n",
      "16                         177.8             3.646368  \n",
      "17                         193.7             2.663243  \n",
      "18                         227.4             2.472487  \n",
      "19                           NaN             2.743947  \n",
      "20                         247.7             1.489362  \n",
      "21                           NaN             2.127660  \n",
      "22                           NaN             1.665444  \n",
      "23                           NaN             1.753485  \n",
      "24                         269.2             1.577403  \n",
      "25                           NaN             1.760822  \n",
      "26                           NaN             2.655906  \n",
      "27                         180.9             2.230374  \n",
      "28                         163.7             2.509171  \n",
      "29                         226.4             3.565664  \n",
      "30                         228.1             3.462949  \n",
      "31                         247.6             1.555393  \n",
      "32                         316.7             3.484960  \n",
      "33                         285.1             2.751284  \n",
      "34                           NaN             1.526045  \n",
      "35                           NaN             1.863536  \n",
      "36                         351.2             2.531181  \n",
      "37                         374.1             1.680117  \n",
      "38                           NaN             2.223037  \n",
      "39                           NaN             2.898019  \n"
     ]
    }
   ],
   "source": [
    "## Your code here down\n",
    "# Calculate the total precipitation\n",
    "total_precipitation = df['precipitation'].sum()\n",
    "\n",
    "# Calculate the percentage contribution of each farm's precipitation relative to the total precipitation\n",
    "df['percentage_tot_prec'] = (df['precipitation'] / total_precipitation) * 100\n",
    "\n",
    "print(df)\n",
    "\n",
    "\n",
    "## Your code here up"
   ]
  },
  {
   "attachments": {},
   "cell_type": "markdown",
   "metadata": {},
   "source": [
    "9. Create a new column called \"precipitation_rank\" that ranks the farms based on their precipitation in ascending order, with ties being assigned the same rank."
   ]
  },
  {
   "cell_type": "code",
   "execution_count": 22,
   "metadata": {},
   "outputs": [
    {
     "name": "stdout",
     "output_type": "stream",
     "text": [
      "   farm_name  farm_lon  farm_lat  temperature  precipitation   soil_type  \\\n",
      "0     Farm 1   -100.66     50.10         23.1           46.3       brown   \n",
      "1     Farm 2   -100.57     51.40         19.0           22.7       black   \n",
      "2     Farm 3   -104.63     50.94         19.1           33.8  dark brown   \n",
      "3     Farm 4   -101.96     51.49         21.9           32.0       black   \n",
      "4     Farm 5   -104.31     50.20         23.5           22.8        None   \n",
      "5     Farm 6   -102.44     50.05         20.6           36.5        gray   \n",
      "6     Farm 7   -100.80     50.35         21.9           49.2  dark brown   \n",
      "7     Farm 8   -100.98     50.16         20.2           27.5  dark brown   \n",
      "8     Farm 9   -103.55     51.08         22.2           38.5        gray   \n",
      "9    Farm 10   -101.88     51.79         21.7           35.1       black   \n",
      "10   Farm 11   -103.38     51.17         19.5           33.7       brown   \n",
      "11   Farm 12   -104.51     50.22         22.6           38.3       black   \n",
      "12   Farm 13   -100.79     51.74         22.8           46.9  dark brown   \n",
      "13   Farm 14   -102.94     51.65         20.3           29.8        gray   \n",
      "14   Farm 15   -100.46     51.36         20.4           49.5       brown   \n",
      "15   Farm 16   -104.91     50.66         19.2           45.7        gray   \n",
      "16   Farm 17   -100.80     50.94         21.5           49.7       black   \n",
      "17   Farm 18   -103.72     50.98         21.6           36.3  dark brown   \n",
      "18   Farm 19   -100.24     51.85         20.0           33.7  dark brown   \n",
      "19   Farm 20   -103.86     50.66         22.2           37.4        None   \n",
      "20   Farm 21   -102.89     50.33         22.2           20.3  dark brown   \n",
      "21   Farm 22   -102.29     51.62         22.9           29.0        None   \n",
      "22   Farm 23   -103.05     51.28         21.9           22.7        None   \n",
      "23   Farm 24   -102.77     51.82         21.1           23.9        None   \n",
      "24   Farm 25   -103.06     50.59         18.8           21.5  dark brown   \n",
      "25   Farm 26   -102.29     50.46         24.8           24.0        None   \n",
      "26   Farm 27   -102.87     51.49         18.9           36.2        None   \n",
      "27   Farm 28   -103.61     50.08         23.1           30.4        gray   \n",
      "28   Farm 29   -101.85     50.13         21.1           34.2       brown   \n",
      "29   Farm 30   -101.80     51.29         24.4           48.6       black   \n",
      "30   Farm 31   -101.76     50.47         21.5           47.2        gray   \n",
      "31   Farm 32   -103.40     50.14         19.4           21.2       black   \n",
      "32   Farm 33   -100.71     51.36         20.8           47.5  dark brown   \n",
      "33   Farm 34   -104.45     50.76         24.8           37.5       black   \n",
      "34   Farm 35   -102.61     50.50         20.0           20.8        None   \n",
      "35   Farm 36   -100.25     50.44         19.0           25.4        None   \n",
      "36   Farm 37   -102.76     51.11         23.2           34.5  dark brown   \n",
      "37   Farm 38   -104.53     51.13         18.6           22.9  dark brown   \n",
      "38   Farm 39   -100.92     51.48         21.3           30.3        None   \n",
      "39   Farm 40   -102.48     50.88         24.0           39.5        None   \n",
      "\n",
      "    cumulative_sum_precipitation  percentage_tot_prec  precipitation_rank  \n",
      "0                           46.3             3.396919                33.0  \n",
      "1                           22.7             1.665444                 5.5  \n",
      "2                           33.8             2.479824                20.0  \n",
      "3                           54.7             2.347762                17.0  \n",
      "4                            NaN             1.672781                 7.0  \n",
      "5                           36.5             2.677916                26.0  \n",
      "6                           83.0             3.609685                38.0  \n",
      "7                          110.5             2.017608                12.0  \n",
      "8                           75.0             2.824652                30.0  \n",
      "9                           89.8             2.575202                23.0  \n",
      "10                          80.0             2.472487                18.5  \n",
      "11                         128.1             2.809978                29.0  \n",
      "12                         157.4             3.440939                34.0  \n",
      "13                         104.8             2.186354                14.0  \n",
      "14                         129.5             3.631695                39.0  \n",
      "15                         150.5             3.352898                32.0  \n",
      "16                         177.8             3.646368                40.0  \n",
      "17                         193.7             2.663243                25.0  \n",
      "18                         227.4             2.472487                18.5  \n",
      "19                           NaN             2.743947                27.0  \n",
      "20                         247.7             1.489362                 1.0  \n",
      "21                           NaN             2.127660                13.0  \n",
      "22                           NaN             1.665444                 5.5  \n",
      "23                           NaN             1.753485                 9.0  \n",
      "24                         269.2             1.577403                 4.0  \n",
      "25                           NaN             1.760822                10.0  \n",
      "26                           NaN             2.655906                24.0  \n",
      "27                         180.9             2.230374                16.0  \n",
      "28                         163.7             2.509171                21.0  \n",
      "29                         226.4             3.565664                37.0  \n",
      "30                         228.1             3.462949                35.0  \n",
      "31                         247.6             1.555393                 3.0  \n",
      "32                         316.7             3.484960                36.0  \n",
      "33                         285.1             2.751284                28.0  \n",
      "34                           NaN             1.526045                 2.0  \n",
      "35                           NaN             1.863536                11.0  \n",
      "36                         351.2             2.531181                22.0  \n",
      "37                         374.1             1.680117                 8.0  \n",
      "38                           NaN             2.223037                15.0  \n",
      "39                           NaN             2.898019                31.0  \n"
     ]
    }
   ],
   "source": [
    "## Your code here down\n",
    "# Create a new column \"precipitation_rank\" based on the rank of precipitation in ascending order\n",
    "df['precipitation_rank'] = df['precipitation'].rank(ascending=True, method='average')\n",
    "\n",
    "print(df)\n",
    "\n",
    "## Your code here up"
   ]
  },
  {
   "attachments": {},
   "cell_type": "markdown",
   "metadata": {},
   "source": [
    "10. Normalize the temperature column to a range between 0 and 1 for each farm."
   ]
  },
  {
   "cell_type": "code",
   "execution_count": 23,
   "metadata": {},
   "outputs": [
    {
     "name": "stdout",
     "output_type": "stream",
     "text": [
      "   farm_name  farm_lon  farm_lat  temperature  precipitation   soil_type  \\\n",
      "0     Farm 1   -100.66     50.10         23.1           46.3       brown   \n",
      "1     Farm 2   -100.57     51.40         19.0           22.7       black   \n",
      "2     Farm 3   -104.63     50.94         19.1           33.8  dark brown   \n",
      "3     Farm 4   -101.96     51.49         21.9           32.0       black   \n",
      "4     Farm 5   -104.31     50.20         23.5           22.8        None   \n",
      "5     Farm 6   -102.44     50.05         20.6           36.5        gray   \n",
      "6     Farm 7   -100.80     50.35         21.9           49.2  dark brown   \n",
      "7     Farm 8   -100.98     50.16         20.2           27.5  dark brown   \n",
      "8     Farm 9   -103.55     51.08         22.2           38.5        gray   \n",
      "9    Farm 10   -101.88     51.79         21.7           35.1       black   \n",
      "10   Farm 11   -103.38     51.17         19.5           33.7       brown   \n",
      "11   Farm 12   -104.51     50.22         22.6           38.3       black   \n",
      "12   Farm 13   -100.79     51.74         22.8           46.9  dark brown   \n",
      "13   Farm 14   -102.94     51.65         20.3           29.8        gray   \n",
      "14   Farm 15   -100.46     51.36         20.4           49.5       brown   \n",
      "15   Farm 16   -104.91     50.66         19.2           45.7        gray   \n",
      "16   Farm 17   -100.80     50.94         21.5           49.7       black   \n",
      "17   Farm 18   -103.72     50.98         21.6           36.3  dark brown   \n",
      "18   Farm 19   -100.24     51.85         20.0           33.7  dark brown   \n",
      "19   Farm 20   -103.86     50.66         22.2           37.4        None   \n",
      "20   Farm 21   -102.89     50.33         22.2           20.3  dark brown   \n",
      "21   Farm 22   -102.29     51.62         22.9           29.0        None   \n",
      "22   Farm 23   -103.05     51.28         21.9           22.7        None   \n",
      "23   Farm 24   -102.77     51.82         21.1           23.9        None   \n",
      "24   Farm 25   -103.06     50.59         18.8           21.5  dark brown   \n",
      "25   Farm 26   -102.29     50.46         24.8           24.0        None   \n",
      "26   Farm 27   -102.87     51.49         18.9           36.2        None   \n",
      "27   Farm 28   -103.61     50.08         23.1           30.4        gray   \n",
      "28   Farm 29   -101.85     50.13         21.1           34.2       brown   \n",
      "29   Farm 30   -101.80     51.29         24.4           48.6       black   \n",
      "30   Farm 31   -101.76     50.47         21.5           47.2        gray   \n",
      "31   Farm 32   -103.40     50.14         19.4           21.2       black   \n",
      "32   Farm 33   -100.71     51.36         20.8           47.5  dark brown   \n",
      "33   Farm 34   -104.45     50.76         24.8           37.5       black   \n",
      "34   Farm 35   -102.61     50.50         20.0           20.8        None   \n",
      "35   Farm 36   -100.25     50.44         19.0           25.4        None   \n",
      "36   Farm 37   -102.76     51.11         23.2           34.5  dark brown   \n",
      "37   Farm 38   -104.53     51.13         18.6           22.9  dark brown   \n",
      "38   Farm 39   -100.92     51.48         21.3           30.3        None   \n",
      "39   Farm 40   -102.48     50.88         24.0           39.5        None   \n",
      "\n",
      "    cumulative_sum_precipitation  percentage_tot_prec  precipitation_rank  \\\n",
      "0                           46.3             3.396919                33.0   \n",
      "1                           22.7             1.665444                 5.5   \n",
      "2                           33.8             2.479824                20.0   \n",
      "3                           54.7             2.347762                17.0   \n",
      "4                            NaN             1.672781                 7.0   \n",
      "5                           36.5             2.677916                26.0   \n",
      "6                           83.0             3.609685                38.0   \n",
      "7                          110.5             2.017608                12.0   \n",
      "8                           75.0             2.824652                30.0   \n",
      "9                           89.8             2.575202                23.0   \n",
      "10                          80.0             2.472487                18.5   \n",
      "11                         128.1             2.809978                29.0   \n",
      "12                         157.4             3.440939                34.0   \n",
      "13                         104.8             2.186354                14.0   \n",
      "14                         129.5             3.631695                39.0   \n",
      "15                         150.5             3.352898                32.0   \n",
      "16                         177.8             3.646368                40.0   \n",
      "17                         193.7             2.663243                25.0   \n",
      "18                         227.4             2.472487                18.5   \n",
      "19                           NaN             2.743947                27.0   \n",
      "20                         247.7             1.489362                 1.0   \n",
      "21                           NaN             2.127660                13.0   \n",
      "22                           NaN             1.665444                 5.5   \n",
      "23                           NaN             1.753485                 9.0   \n",
      "24                         269.2             1.577403                 4.0   \n",
      "25                           NaN             1.760822                10.0   \n",
      "26                           NaN             2.655906                24.0   \n",
      "27                         180.9             2.230374                16.0   \n",
      "28                         163.7             2.509171                21.0   \n",
      "29                         226.4             3.565664                37.0   \n",
      "30                         228.1             3.462949                35.0   \n",
      "31                         247.6             1.555393                 3.0   \n",
      "32                         316.7             3.484960                36.0   \n",
      "33                         285.1             2.751284                28.0   \n",
      "34                           NaN             1.526045                 2.0   \n",
      "35                           NaN             1.863536                11.0   \n",
      "36                         351.2             2.531181                22.0   \n",
      "37                         374.1             1.680117                 8.0   \n",
      "38                           NaN             2.223037                15.0   \n",
      "39                           NaN             2.898019                31.0   \n",
      "\n",
      "    normalized_temperature  \n",
      "0                 0.725806  \n",
      "1                 0.064516  \n",
      "2                 0.080645  \n",
      "3                 0.532258  \n",
      "4                 0.790323  \n",
      "5                 0.322581  \n",
      "6                 0.532258  \n",
      "7                 0.258065  \n",
      "8                 0.580645  \n",
      "9                 0.500000  \n",
      "10                0.145161  \n",
      "11                0.645161  \n",
      "12                0.677419  \n",
      "13                0.274194  \n",
      "14                0.290323  \n",
      "15                0.096774  \n",
      "16                0.467742  \n",
      "17                0.483871  \n",
      "18                0.225806  \n",
      "19                0.580645  \n",
      "20                0.580645  \n",
      "21                0.693548  \n",
      "22                0.532258  \n",
      "23                0.403226  \n",
      "24                0.032258  \n",
      "25                1.000000  \n",
      "26                0.048387  \n",
      "27                0.725806  \n",
      "28                0.403226  \n",
      "29                0.935484  \n",
      "30                0.467742  \n",
      "31                0.129032  \n",
      "32                0.354839  \n",
      "33                1.000000  \n",
      "34                0.225806  \n",
      "35                0.064516  \n",
      "36                0.741935  \n",
      "37                0.000000  \n",
      "38                0.435484  \n",
      "39                0.870968  \n"
     ]
    }
   ],
   "source": [
    "## Your code here down\n",
    "# Normalize the temperature column to a range between 0 and 1 for each farm\n",
    "min_temp = df['temperature'].min()\n",
    "max_temp = df['temperature'].max()\n",
    "df['normalized_temperature'] = (df['temperature'] - min_temp) / (max_temp - min_temp)\n",
    "\n",
    "print(df)\n",
    "\n",
    "\n",
    "## Your code here up"
   ]
  }
 ],
 "metadata": {
  "kernelspec": {
   "display_name": "Python 3",
   "language": "python",
   "name": "python3"
  },
  "language_info": {
   "codemirror_mode": {
    "name": "ipython",
    "version": 3
   },
   "file_extension": ".py",
   "mimetype": "text/x-python",
   "name": "python",
   "nbconvert_exporter": "python",
   "pygments_lexer": "ipython3",
   "version": "3.10.9"
  },
  "orig_nbformat": 4
 },
 "nbformat": 4,
 "nbformat_minor": 2
}
