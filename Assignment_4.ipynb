{
 "cells": [
  {
   "attachments": {},
   "cell_type": "markdown",
   "metadata": {},
   "source": [
    "# Assignment 4"
   ]
  },
  {
   "attachments": {},
   "cell_type": "markdown",
   "metadata": {},
   "source": [
    "**Please follow the instructions**"
   ]
  },
  {
   "cell_type": "code",
   "execution_count": 4,
   "metadata": {},
   "outputs": [
    {
     "name": "stdout",
     "output_type": "stream",
     "text": [
      "Assignment 4: Solutions by Aleksandr\n",
      "Local Time: 2023-07-29 19:07:16\n",
      "Computer ID: DESKTOP-6GLOPD7\n"
     ]
    }
   ],
   "source": [
    "import datetime\n",
    "import socket\n",
    "\n",
    "# Get local time\n",
    "local_time = datetime.datetime.now().strftime(\"%Y-%m-%d %H:%M:%S\")\n",
    "\n",
    "# Get computer ID or hostname\n",
    "computer_id = socket.gethostname()\n",
    "\n",
    "# Print output with local time and computer ID\n",
    "print('Assignment 4: Solutions by Aleksandr') # Please change your name here\n",
    "print('Local Time:', local_time)\n",
    "print('Computer ID:', computer_id)"
   ]
  },
  {
   "attachments": {},
   "cell_type": "markdown",
   "metadata": {},
   "source": [
    "# Objective"
   ]
  },
  {
   "attachments": {},
   "cell_type": "markdown",
   "metadata": {},
   "source": [
    "The goal of this project to extract World populattion by countries. \n",
    "Please extarct data from the following data sources: \n",
    "\n",
    "- List of independent and dependency countries: 'https://en.wikipedia.org/wiki/List_of_countries_and_dependencies_by_population'. \n",
    "- List of UN recognized countries: 'https://en.wikipedia.org/wiki/List_of_sovereign_states'"
   ]
  },
  {
   "attachments": {},
   "cell_type": "markdown",
   "metadata": {},
   "source": [
    "# ETL"
   ]
  },
  {
   "attachments": {},
   "cell_type": "markdown",
   "metadata": {},
   "source": [
    "Task 1:\n",
    "- Read the first datasets and display the first 4 rows.\n",
    "- Convert the data types accordingly (e.g., float, string, integer) and perform data cleaning if necessary.\n",
    "- If the population is given in millions (e.g., Azerbaijan Population 10,000,000), divide it by 1,000,000 to represent it as 10.0.\n",
    "\n",
    "Task 2:\n",
    "- Read the second dataframe and display the first 4 rows.\n",
    "- Adjust the data types of the second dataframe as needed.\n",
    "\n",
    "Task 3:\n",
    "- Merge dataframe 1 and dataframe 2 based on the country name. Ensure that the countries have the same name and can be merged together. You can use the following command: `pd.merge(df2, df1, on='Country', how='inner')`.\n",
    "\n",
    "Task 4:\n",
    "- Save the merged dataframe as a CSV file and submit it. Include only the 'Country' and 'Population' columns, excluding any other columns.\n",
    "\n",
    "Please submit the dataset before our class on Tuesday, as I will utilize it for data visualization purposes. You can also upload the dataset to your GitHub account. I will choose the cleanest and correct dataset for our next training."
   ]
  },
  {
   "cell_type": "code",
   "execution_count": 19,
   "metadata": {},
   "outputs": [
    {
     "name": "stdout",
     "output_type": "stream",
     "text": [
      "First 4 rows of DataFrame 1:\n",
      "  Unnamed: 0 Country / Dependency  Population % of world         Date  \\\n",
      "0          –                World  8051684000       100%   3 Aug 2023   \n",
      "1          1                China  1411750000        NaN  31 Dec 2022   \n",
      "2          2                India  1392329000        NaN   1 Jul 2023   \n",
      "3          3        United States   335179000        NaN   3 Aug 2023   \n",
      "\n",
      "  Source (official or from the United Nations) Unnamed: 6  \n",
      "0                             UN projection[3]        NaN  \n",
      "1                         Official estimate[4]        [b]  \n",
      "2                       Official projection[5]        [c]  \n",
      "3                 National population clock[7]        [d]  \n"
     ]
    }
   ],
   "source": [
    "import pandas as pd\n",
    "\n",
    "# Read the first dataset and display the first 4 rows\n",
    "url1 = 'https://en.wikipedia.org/wiki/List_of_countries_and_dependencies_by_population'\n",
    "df1 = pd.read_html(url1)[1]\n",
    "print(\"First 4 rows of DataFrame 1:\")\n",
    "print(df1.head(4))\n",
    "\n",
    "\n"
   ]
  },
  {
   "cell_type": "code",
   "execution_count": 4,
   "metadata": {},
   "outputs": [
    {
     "name": "stdout",
     "output_type": "stream",
     "text": [
      "\n",
      "First 4 rows of DataFrame 2:\n",
      "                             Common and formal names  \\\n",
      "0                                        Afghanistan   \n",
      "1                      Albania – Republic of Albania   \n",
      "2  Algeria – People's Democratic Republic of Algeria   \n",
      "3                  Andorra – Principality of Andorra   \n",
      "\n",
      "  Membership within the UN System[c] Sovereignty dispute[d]  \\\n",
      "0                                NaN                    NaN   \n",
      "1                                NaN                    NaN   \n",
      "2                                NaN                    NaN   \n",
      "3                                NaN                    NaN   \n",
      "\n",
      "  Further information on status and recognition of sovereignty[f]  \n",
      "0  The de facto ruling government, the Islamic Em...               \n",
      "1                                                NaN               \n",
      "2                                                NaN               \n",
      "3  Andorra is a co-principality in which the offi...               \n"
     ]
    }
   ],
   "source": [
    "# Read the second dataframe and display the first 4 rows\n",
    "url2 = 'https://en.wikipedia.org/wiki/List_of_sovereign_states'\n",
    "df2 = pd.read_html(url2)[1]\n",
    "print(\"\\nFirst 4 rows of DataFrame 2:\")\n",
    "print(df2.head(4))"
   ]
  },
  {
   "cell_type": "code",
   "execution_count": 18,
   "metadata": {},
   "outputs": [
    {
     "name": "stdout",
     "output_type": "stream",
     "text": [
      "<class 'pandas.core.frame.DataFrame'>\n",
      "RangeIndex: 242 entries, 0 to 241\n",
      "Data columns (total 7 columns):\n",
      " #   Column                                        Non-Null Count  Dtype  \n",
      "---  ------                                        --------------  -----  \n",
      " 0   Unnamed: 0                                    242 non-null    object \n",
      " 1   Country / Dependency                          242 non-null    string \n",
      " 2   Population                                    242 non-null    float64\n",
      " 3   % of world                                    1 non-null      object \n",
      " 4   Date                                          242 non-null    string \n",
      " 5   Source (official or from the United Nations)  242 non-null    object \n",
      " 6   Unnamed: 6                                    31 non-null     object \n",
      "dtypes: float64(1), object(4), string(2)\n",
      "memory usage: 13.4+ KB\n"
     ]
    }
   ],
   "source": [
    "df1.info()"
   ]
  },
  {
   "cell_type": "code",
   "execution_count": 6,
   "metadata": {},
   "outputs": [
    {
     "name": "stdout",
     "output_type": "stream",
     "text": [
      "<class 'pandas.core.frame.DataFrame'>\n",
      "RangeIndex: 195 entries, 0 to 194\n",
      "Data columns (total 4 columns):\n",
      " #   Column                                                           Non-Null Count  Dtype \n",
      "---  ------                                                           --------------  ----- \n",
      " 0   Common and formal names                                          195 non-null    object\n",
      " 1   Membership within the UN System[c]                               2 non-null      object\n",
      " 2   Sovereignty dispute[d]                                           7 non-null      object\n",
      " 3   Further information on status and recognition of sovereignty[f]  95 non-null     object\n",
      "dtypes: object(4)\n",
      "memory usage: 6.2+ KB\n"
     ]
    }
   ],
   "source": [
    "df2.info()"
   ]
  },
  {
   "cell_type": "code",
   "execution_count": 9,
   "metadata": {},
   "outputs": [],
   "source": [
    "df1['Country / Dependency'] = df1['Country / Dependency'].astype('string')"
   ]
  },
  {
   "cell_type": "code",
   "execution_count": 13,
   "metadata": {},
   "outputs": [],
   "source": [
    "df1['Date'] = df1['Date'].astype('string')"
   ]
  },
  {
   "cell_type": "code",
   "execution_count": 14,
   "metadata": {},
   "outputs": [
    {
     "data": {
      "text/plain": [
       "<StringArray>\n",
       "[                                            'World',\n",
       "                                             'China',\n",
       "                                             'India',\n",
       "                                     'United States',\n",
       "                                         'Indonesia',\n",
       "                                          'Pakistan',\n",
       "                                           'Nigeria',\n",
       "                                            'Brazil',\n",
       "                                        'Bangladesh',\n",
       "                                            'Russia',\n",
       " ...\n",
       " 'Saint Helena, Ascension and Tristan da Cunha (UK)',\n",
       "                                   'Montserrat (UK)',\n",
       "                             'Falkland Islands (UK)',\n",
       "                        'Norfolk Island (Australia)',\n",
       "                      'Christmas Island (Australia)',\n",
       "                                      'Tokelau (NZ)',\n",
       "                                              'Niue',\n",
       "               'Cocos (Keeling) Islands (Australia)',\n",
       "                                      'Vatican City',\n",
       "                             'Pitcairn Islands (UK)']\n",
       "Length: 242, dtype: string"
      ]
     },
     "execution_count": 14,
     "metadata": {},
     "output_type": "execute_result"
    }
   ],
   "source": [
    "df1['Country / Dependency'].unique()"
   ]
  },
  {
   "cell_type": "code",
   "execution_count": 16,
   "metadata": {},
   "outputs": [
    {
     "name": "stdout",
     "output_type": "stream",
     "text": [
      "\n",
      "Data types after data cleaning:\n",
      "Unnamed: 0                                       object\n",
      "Country / Dependency                             string\n",
      "Population                                      float64\n",
      "% of world                                       object\n",
      "Date                                             string\n",
      "Source (official or from the United Nations)     object\n",
      "Unnamed: 6                                       object\n",
      "dtype: object\n"
     ]
    }
   ],
   "source": [
    "# Data cleaning and data type conversion\n",
    "df1['Population'] = df1['Population'].replace({',': '', '\\[\\d+\\]': ''}, regex=True).astype(float)\n",
    "df1['Population'] = df1['Population'].apply(lambda x: x / 1000000 if 'million' in str(x) else x)\n",
    "print(\"\\nData types after data cleaning:\")\n",
    "print(df1.dtypes)"
   ]
  },
  {
   "cell_type": "code",
   "execution_count": 20,
   "metadata": {},
   "outputs": [
    {
     "data": {
      "text/plain": [
       "array([8051684000, 1411750000, 1392329000,  335179000,  277749853,\n",
       "        220425254,  216783400,  203062512,  169828911,  146424729,\n",
       "        129035733,  124500000,  110664000,  105163988,  102060688,\n",
       "        100000000,   95370000,   85279553,   85189900,   84358845,\n",
       "         68263022,   68128000,   67026292,   61741120,   60604992,\n",
       "         58788924,   55770232,   52215503,   51526000,   51439038,\n",
       "         48196693,   46044703,   45400000,   43324000,   42885900,\n",
       "         41984500,   41130432,   40207500,   37726000,   37053500,\n",
       "         36197788,   34262840,   33396698,   33086278,   32701500,\n",
       "         32419747,   32175224,   31890000,   30832019,   29389150,\n",
       "         29164578,   28302000,   26923353,   26664500,   25660000,\n",
       "         24348251,   24112753,   23347374,   23293699,   22923000,\n",
       "         22185654,   22181000,   21507723,   19960889,   19854083,\n",
       "         19610769,   19053815,   18340600,   17889000,   17598000,\n",
       "         17223497,   17109746,   16818391,   15552211,   15178979,\n",
       "         13261638,   13249924,   13246394,   12837740,   12606998,\n",
       "         12006031,   11803588,   11781559,   11755313,   11743017,\n",
       "         11446100,   11089511,   10827529,   10538026,   10535535,\n",
       "         10482487,   10467366,   10135373,    9741000,    9597085,\n",
       "          9546178,    9506000,    9282410,    9200617,    9120091,\n",
       "          8865270,    8494260,    8095498,    7453695,    7337783,\n",
       "          7333200,    7100000,    6931061,    6884888,    6647003,\n",
       "          6595674,    6516100,    6447710,    6106869,    5941388,\n",
       "          5633412,    5541016,    5504329,    5490000,    5483450,\n",
       "          5453600,    5426857,    5213362,    5199100,    5149139,\n",
       "          5035658,    4670713,    4661010,    4372037,    4278500,\n",
       "          3888529,    3748902,    3736400,    3554915,    3457548,\n",
       "          3277082,    3221789,    3005069,    2981200,    2862274,\n",
       "          2825544,    2793592,    2604000,    2596037,    2417471,\n",
       "          2410338,    2306000,    2233272,    2116972,    1885400,\n",
       "          1832696,    1798188,    1781308,    1558160,    1504365,\n",
       "          1365884,    1365805,    1336222,    1261196,    1223362,\n",
       "          1001454,     918100,     893468,     763200,     758316,\n",
       "           743699,     728041,     673600,     660809,     617683,\n",
       "           616500,     587259,     569509,     519562,     441471,\n",
       "           440715,     397372,     397360,     394200,     382836,\n",
       "           360938,     301295,     279890,     273674,     267800,\n",
       "           245424,     214610,     205557,     178696,     153836,\n",
       "           148925,     148900,     120740,     112579,     110872,\n",
       "           107800,     106739,     105754,     100772,     100447,\n",
       "           100179,      87146,      84069,      82623,      71105,\n",
       "            67408,      64055,      63950,      56609,      56520,\n",
       "            54503,      49710,      47329,      47195,      46131,\n",
       "            42938,      39680,      39262,      39150,      34003,\n",
       "            33847,      32358,      31538,      30423,      16733,\n",
       "            15701,      15040,      11832,      11369,      10679,\n",
       "            10585,       6092,       5651,       4433,       3662,\n",
       "             2188,       1692,       1647,       1549,        593,\n",
       "              246,         47], dtype=int64)"
      ]
     },
     "execution_count": 20,
     "metadata": {},
     "output_type": "execute_result"
    }
   ],
   "source": [
    "df1['Population'].unique()"
   ]
  },
  {
   "cell_type": "code",
   "execution_count": 21,
   "metadata": {},
   "outputs": [
    {
     "data": {
      "text/html": [
       "<div>\n",
       "<style scoped>\n",
       "    .dataframe tbody tr th:only-of-type {\n",
       "        vertical-align: middle;\n",
       "    }\n",
       "\n",
       "    .dataframe tbody tr th {\n",
       "        vertical-align: top;\n",
       "    }\n",
       "\n",
       "    .dataframe thead th {\n",
       "        text-align: right;\n",
       "    }\n",
       "</style>\n",
       "<table border=\"1\" class=\"dataframe\">\n",
       "  <thead>\n",
       "    <tr style=\"text-align: right;\">\n",
       "      <th></th>\n",
       "      <th>count</th>\n",
       "      <th>mean</th>\n",
       "      <th>std</th>\n",
       "      <th>min</th>\n",
       "      <th>25%</th>\n",
       "      <th>50%</th>\n",
       "      <th>75%</th>\n",
       "      <th>max</th>\n",
       "    </tr>\n",
       "  </thead>\n",
       "  <tbody>\n",
       "    <tr>\n",
       "      <th>Population</th>\n",
       "      <td>242.0</td>\n",
       "      <td>6.561009e+07</td>\n",
       "      <td>5.322918e+08</td>\n",
       "      <td>47.0</td>\n",
       "      <td>316205.75</td>\n",
       "      <td>5440228.5</td>\n",
       "      <td>22184490.5</td>\n",
       "      <td>8.051684e+09</td>\n",
       "    </tr>\n",
       "  </tbody>\n",
       "</table>\n",
       "</div>"
      ],
      "text/plain": [
       "            count          mean           std   min        25%        50%  \\\n",
       "Population  242.0  6.561009e+07  5.322918e+08  47.0  316205.75  5440228.5   \n",
       "\n",
       "                   75%           max  \n",
       "Population  22184490.5  8.051684e+09  "
      ]
     },
     "execution_count": 21,
     "metadata": {},
     "output_type": "execute_result"
    }
   ],
   "source": [
    "df1.describe().T"
   ]
  },
  {
   "cell_type": "code",
   "execution_count": 24,
   "metadata": {},
   "outputs": [
    {
     "name": "stdout",
     "output_type": "stream",
     "text": [
      "\n",
      "First 4 rows of DataFrame 2:\n",
      "             Common and formal names Membership within the UN System[ak]  \\\n",
      "0    Abkhazia – Republic of Abkhazia                                 NaN   \n",
      "1  Artsakh – Republic of Artsakh[an]                                 NaN   \n",
      "2                       Cook Islands             UN specialized agencies   \n",
      "3        Kosovo – Republic of Kosovo             UN specialized agencies   \n",
      "\n",
      "  Sovereignty dispute[al]  \\\n",
      "0                 Georgia   \n",
      "1              Azerbaijan   \n",
      "2  (See political status)   \n",
      "3                  Serbia   \n",
      "\n",
      "  Further information on status and recognition of sovereignty[am]  \n",
      "0  recognised by Russia, Nauru, Nicaragua, Syria,...                \n",
      "1  A de facto independent state,[60][61][62] reco...                \n",
      "2  A state in free association with New Zealand, ...                \n",
      "3  Pursuant to United Nations Security Council Re...                \n",
      "<class 'pandas.core.frame.DataFrame'>\n",
      "RangeIndex: 11 entries, 0 to 10\n",
      "Data columns (total 4 columns):\n",
      " #   Column                                                            Non-Null Count  Dtype \n",
      "---  ------                                                            --------------  ----- \n",
      " 0   Common and formal names                                           11 non-null     object\n",
      " 1   Membership within the UN System[ak]                               3 non-null      object\n",
      " 2   Sovereignty dispute[al]                                           11 non-null     object\n",
      " 3   Further information on status and recognition of sovereignty[am]  11 non-null     object\n",
      "dtypes: object(4)\n",
      "memory usage: 480.0+ bytes\n"
     ]
    }
   ],
   "source": [
    "url3 = 'https://en.wikipedia.org/wiki/List_of_sovereign_states'\n",
    "df3 = pd.read_html(url3)[3]\n",
    "print(\"\\nFirst 4 rows of DataFrame 2:\")\n",
    "print(df3.head(4))\n",
    "df3.info()"
   ]
  }
 ],
 "metadata": {
  "kernelspec": {
   "display_name": "base",
   "language": "python",
   "name": "python3"
  },
  "language_info": {
   "codemirror_mode": {
    "name": "ipython",
    "version": 3
   },
   "file_extension": ".py",
   "mimetype": "text/x-python",
   "name": "python",
   "nbconvert_exporter": "python",
   "pygments_lexer": "ipython3",
   "version": "3.10.9"
  },
  "orig_nbformat": 4
 },
 "nbformat": 4,
 "nbformat_minor": 2
}
